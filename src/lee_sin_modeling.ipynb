{
 "cells": [
  {
   "cell_type": "code",
   "execution_count": 1,
   "metadata": {},
   "outputs": [],
   "source": [
    "import pandas as pd\n",
    "import numpy as np\n",
    "import matplotlib.pyplot as plt\n",
    "import seaborn as sns\n",
    "plt.style.use('ggplot')\n",
    "\n",
    "from utils import modeling_utils, data_processing\n",
    "\n",
    "%reload_ext autoreload\n",
    "%autoreload 2"
   ]
  },
  {
   "attachments": {},
   "cell_type": "markdown",
   "metadata": {},
   "source": [
    "# Modeling\n",
    "- My idea is to build a model that will allow to explain the probability of victory given some of the collected post game statistics."
   ]
  },
  {
   "cell_type": "code",
   "execution_count": 2,
   "metadata": {},
   "outputs": [
    {
     "name": "stderr",
     "output_type": "stream",
     "text": [
      "/home/quak/development/lol_stats/src/utils/data_processing.py:6: DtypeWarning: Columns (2) have mixed types. Specify dtype option on import or set low_memory=False.\n",
      "  df = pd.read_csv(path + file_name)\n"
     ]
    }
   ],
   "source": [
    "# tournaments to evaluate\n",
    "major_regions = ['LPL', 'LCK', 'LEC', 'LCS', 'MSI', 'WCS', 'NA LCS', 'EU LCS', 'KeSPA']\n",
    "# droping columns that i find no use for at least for now\n",
    "drop_irrelevant = [\n",
    "    'gameid', 'datacompleteness', 'url', 'split', 'playoffs', \n",
    "    'date', 'game', 'patch', 'participantid', 'position', \n",
    "    'playerid', 'teamname', 'teamid', 'champion', 'ban1', \n",
    "    'ban2', 'ban3', 'ban4', 'ban5', ]\n",
    "\n",
    "# problematic columns, i think some of them can be added from column 'pos' == 'team' \n",
    "# but still there is problem with relevant LPL statistics \n",
    "drop_large_nulls = [\n",
    "    'firstdragon', 'dragons', 'opp_dragons', 'elementaldrakes', \n",
    "    'opp_elementaldrakes', 'infernals', 'mountains', 'clouds', \n",
    "    'oceans', 'chemtechs', 'hextechs', 'dragons (type unknown)', \n",
    "    'elders', 'opp_elders', 'firstherald', 'heralds', \n",
    "    'opp_heralds', 'firstbaron', 'inhibitors', 'opp_inhibitors',\n",
    "    'firsttower', 'towers', 'opp_towers', 'firstmidtower', 'firsttothreetowers', 'turretplates', 'opp_turretplates', 'gspd']\n",
    "\n",
    "# interesting game start to evaluate\n",
    "game_stats = ['kills', 'deaths', 'assists', 'dpm', 'damageshare', 'wardsplaced', 'wardskilled', 'minionkills', 'monsterkillsownjungle', 'monsterkillsenemyjungle']\n",
    "\n",
    "df_init = data_processing.prepare_data_leesin(major_regions, drop_irrelevant, drop_large_nulls)"
   ]
  },
  {
   "attachments": {},
   "cell_type": "markdown",
   "metadata": {},
   "source": [
    "- Many features are susceptible to time, with more time we care score more kills etc, because of this I have decided to preprocess the data by calculate statistics such as kills per minute etc. which can be easily evaluated during the ongoing game\n",
    "- kill_participation - is a ratio of combined kills and assists to total team kills, how impactful a player is\n",
    "- death_ratio - number of player deaths to the total team death"
   ]
  },
  {
   "cell_type": "code",
   "execution_count": 3,
   "metadata": {},
   "outputs": [],
   "source": [
    "df = (\n",
    "    df_init\n",
    "    .assign(time_min=lambda x: round(x['gamelength']/60, 0))\n",
    "    .assign(\n",
    "        kills_pm=lambda x: x['kills'] / x['time_min'],\n",
    "        deaths_pm=lambda x: x['deaths'] / x['time_min'],\n",
    "        assists_pm=lambda x: x['assists'] / x['time_min'],\n",
    "        kill_participation=lambda x: np.where(x['teamkills'], (x['kills'] + x['assists']) / x['teamkills'], 0),\n",
    "        death_ratio=lambda x: np.where(x['teamdeaths'], x['deaths'] / x['teamdeaths'], 0),\n",
    "    )\n",
    ")"
   ]
  },
  {
   "cell_type": "code",
   "execution_count": 4,
   "metadata": {},
   "outputs": [
    {
     "data": {
      "text/plain": [
       "kills_pm              0\n",
       "deaths_pm             0\n",
       "assists_pm            0\n",
       "kill_participation    0\n",
       "death_ratio           0\n",
       "teamkills             0\n",
       "teamdeaths            0\n",
       "kills                 0\n",
       "deaths                0\n",
       "assists               0\n",
       "dtype: int64"
      ]
     },
     "execution_count": 4,
     "metadata": {},
     "output_type": "execute_result"
    }
   ],
   "source": [
    "df[\n",
    "    ['kills_pm', 'deaths_pm', 'assists_pm', 'kill_participation', 'death_ratio', 'teamkills', 'teamdeaths', 'kills', 'deaths', 'assists']\n",
    "].isna().sum().sort_values()"
   ]
  },
  {
   "attachments": {},
   "cell_type": "markdown",
   "metadata": {},
   "source": [
    "# Modeling logistic regression"
   ]
  },
  {
   "cell_type": "code",
   "execution_count": 6,
   "metadata": {},
   "outputs": [],
   "source": [
    "target = ['result']\n",
    "\n",
    "bin_features = ['time_min']\n",
    "ohe_features = []#['side']\n",
    "std_features = [] #['dpm', 'damageshare']\n",
    "norm_features = ['kills_pm', 'deaths_pm', 'assists_pm', \n",
    "                 'kill_participation', 'death_ratio']\n",
    "\n",
    "preprocessor = modeling_utils.create_preprocessor(bin_features, ohe_features, std_features, norm_features)"
   ]
  },
  {
   "cell_type": "code",
   "execution_count": 7,
   "metadata": {},
   "outputs": [],
   "source": [
    "from sklearn.model_selection import train_test_split\n",
    "X, y = df.drop(columns=target), df[target].to_numpy().ravel()\n",
    "\n",
    "X_train, X_test, y_train, y_test = train_test_split(X, y, test_size=0.3, random_state=42, stratify=y)"
   ]
  },
  {
   "cell_type": "code",
   "execution_count": 8,
   "metadata": {},
   "outputs": [
    {
     "name": "stdout",
     "output_type": "stream",
     "text": [
      "Best auc score: 0.9808911790323567\n"
     ]
    }
   ],
   "source": [
    "from sklearn.linear_model import LogisticRegression\n",
    "from sklearn.model_selection import GridSearchCV\n",
    "from sklearn.pipeline import Pipeline\n",
    "\n",
    "model_pipe = Pipeline([\n",
    "    ('data_prep', preprocessor), \n",
    "    ('model', LogisticRegression(max_iter=1000))\n",
    "])\n",
    "param_grid = {\n",
    "    'model__C': np.linspace(0.01, 3, 10)\n",
    "}\n",
    "\n",
    "search = (\n",
    "    GridSearchCV(model_pipe, param_grid, scoring='roc_auc', n_jobs=6)\n",
    "    .fit(X_train, y_train)\n",
    ")\n",
    "\n",
    "print(f'Best auc score: {search.best_score_}')"
   ]
  },
  {
   "attachments": {},
   "cell_type": "markdown",
   "metadata": {},
   "source": [
    "## Evaluation"
   ]
  },
  {
   "cell_type": "code",
   "execution_count": 9,
   "metadata": {},
   "outputs": [
    {
     "name": "stdout",
     "output_type": "stream",
     "text": [
      "              precision    recall  f1-score   support\n",
      "\n",
      "        Loss       0.94      0.92      0.93       462\n",
      "         Win       0.93      0.95      0.94       458\n",
      "\n",
      "    accuracy                           0.93       920\n",
      "   macro avg       0.93      0.93      0.93       920\n",
      "weighted avg       0.93      0.93      0.93       920\n",
      "\n"
     ]
    },
    {
     "data": {
      "image/png": "[encoded data removed]",
      "text/plain": [
       "<Figure size 640x480 with 2 Axes>"
      ]
     },
     "metadata": {},
     "output_type": "display_data"
    }
   ],
   "source": [
    "from sklearn.metrics import confusion_matrix, ConfusionMatrixDisplay, classification_report\n",
    "\n",
    "model = search.best_estimator_\n",
    "y_pred = model.predict(X_test)\n",
    "\n",
    "pred_lab = ['Loss', 'Win']\n",
    "print(classification_report(y_test, y_pred, target_names=pred_lab))\n",
    "\n",
    "\n",
    "cm = confusion_matrix(y_test, y_pred, labels=model.classes_)\n",
    "disp = ConfusionMatrixDisplay(confusion_matrix=cm, display_labels=pred_lab)\n",
    "disp.plot(), plt.grid(False)\n",
    "plt.show()"
   ]
  },
  {
   "cell_type": "code",
   "execution_count": 10,
   "metadata": {},
   "outputs": [
    {
     "name": "stdout",
     "output_type": "stream",
     "text": [
      "Best threshold: 0.416, fpr: 0.091, tpr: 0.969\n"
     ]
    },
    {
     "data": {
      "image/png": "[encoded data removed]",
      "text/plain": [
       "<Figure size 600x300 with 1 Axes>"
      ]
     },
     "metadata": {},
     "output_type": "display_data"
    }
   ],
   "source": [
    "from sklearn.metrics import roc_curve\n",
    "\n",
    "fpr, tpr, thresholds = roc_curve(y_test, model.predict_proba(X_test)[:, 1], pos_label=1)\n",
    "gmeans = np.sqrt(tpr * (1 - fpr))\n",
    "idx = np.argmax(gmeans)\n",
    "print(f'Best threshold: {round(thresholds[idx], 3)}, fpr: {round(fpr[idx], 3)}, tpr: {round(tpr[idx], 3)}')\n",
    "\n",
    "fig, ax = plt.subplots(1, 1, figsize=(6, 3))\n",
    "ax.plot(fpr, tpr), ax.axvline(fpr[idx], color='k', alpha=.5), ax.axhline(tpr[idx], color='k', alpha=.5)\n",
    "ax.set_title('ROC')\n",
    "fig.tight_layout()"
   ]
  },
  {
   "attachments": {},
   "cell_type": "markdown",
   "metadata": {},
   "source": [
    "### Values of coefficients"
   ]
  },
  {
   "cell_type": "code",
   "execution_count": 11,
   "metadata": {},
   "outputs": [
    {
     "data": {
      "text/html": [
       "<div>\n",
       "<style scoped>\n",
       "    .dataframe tbody tr th:only-of-type {\n",
       "        vertical-align: middle;\n",
       "    }\n",
       "\n",
       "    .dataframe tbody tr th {\n",
       "        vertical-align: top;\n",
       "    }\n",
       "\n",
       "    .dataframe thead th {\n",
       "        text-align: right;\n",
       "    }\n",
       "</style>\n",
       "<table border=\"1\" class=\"dataframe\">\n",
       "  <thead>\n",
       "    <tr style=\"text-align: right;\">\n",
       "      <th></th>\n",
       "      <th>coef</th>\n",
       "      <th>sign</th>\n",
       "    </tr>\n",
       "  </thead>\n",
       "  <tbody>\n",
       "    <tr>\n",
       "      <th>normalizing__deaths_pm</th>\n",
       "      <td>-18.225000</td>\n",
       "      <td>0</td>\n",
       "    </tr>\n",
       "    <tr>\n",
       "      <th>normalizing__assists_pm</th>\n",
       "      <td>14.167000</td>\n",
       "      <td>1</td>\n",
       "    </tr>\n",
       "    <tr>\n",
       "      <th>normalizing__death_ratio</th>\n",
       "      <td>7.301000</td>\n",
       "      <td>1</td>\n",
       "    </tr>\n",
       "    <tr>\n",
       "      <th>normalizing__kills_pm</th>\n",
       "      <td>6.878000</td>\n",
       "      <td>1</td>\n",
       "    </tr>\n",
       "    <tr>\n",
       "      <th>normalizing__kill_participation</th>\n",
       "      <td>-3.435000</td>\n",
       "      <td>0</td>\n",
       "    </tr>\n",
       "    <tr>\n",
       "      <th>intercept</th>\n",
       "      <td>-0.340197</td>\n",
       "      <td>0</td>\n",
       "    </tr>\n",
       "    <tr>\n",
       "      <th>bining__time_min</th>\n",
       "      <td>-0.045000</td>\n",
       "      <td>0</td>\n",
       "    </tr>\n",
       "  </tbody>\n",
       "</table>\n",
       "</div>"
      ],
      "text/plain": [
       "                                      coef  sign\n",
       "normalizing__deaths_pm          -18.225000     0\n",
       "normalizing__assists_pm          14.167000     1\n",
       "normalizing__death_ratio          7.301000     1\n",
       "normalizing__kills_pm             6.878000     1\n",
       "normalizing__kill_participation  -3.435000     0\n",
       "intercept                        -0.340197     0\n",
       "bining__time_min                 -0.045000     0"
      ]
     },
     "execution_count": 11,
     "metadata": {},
     "output_type": "execute_result"
    }
   ],
   "source": [
    "x = {x: round(y, 3) for x, y in zip(model[0].get_feature_names_out(), model[-1].coef_[0])}\n",
    "x['intercept'] = model[-1].intercept_\n",
    "coefs = pd.DataFrame(x).T\n",
    "coefs.columns = ['coef']\n",
    "coefs['value'] = abs(coefs['coef'])\n",
    "coefs['sign'] = np.where(coefs['coef']>= 0, 1,0)\n",
    "\n",
    "\n",
    "coefs.sort_values('value', ascending=False).drop(columns='value')"
   ]
  },
  {
   "attachments": {},
   "cell_type": "markdown",
   "metadata": {},
   "source": [
    "I feel like we should drop kda_pm stats"
   ]
  }
 ],
 "metadata": {
  "kernelspec": {
   "display_name": "polars",
   "language": "python",
   "name": "python3"
  },
  "language_info": {
   "codemirror_mode": {
    "name": "ipython",
    "version": 3
   },
   "file_extension": ".py",
   "mimetype": "text/x-python",
   "name": "python",
   "nbconvert_exporter": "python",
   "pygments_lexer": "ipython3",
   "version": "3.10.10"
  },
  "orig_nbformat": 4
 },
 "nbformat": 4,
 "nbformat_minor": 2
}
