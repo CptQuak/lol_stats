{
 "cells": [
  {
   "cell_type": "code",
   "execution_count": 1,
   "metadata": {},
   "outputs": [],
   "source": [
    "import pandas as pd\n",
    "import numpy as np\n",
    "import matplotlib.pyplot as plt\n",
    "import seaborn as sns\n",
    "plt.style.use('ggplot')\n",
    "\n",
    "from utils import modeling_utils, data_processing\n",
    "\n",
    "%reload_ext autoreload\n",
    "%autoreload 2"
   ]
  },
  {
   "cell_type": "code",
   "execution_count": 2,
   "metadata": {},
   "outputs": [
    {
     "name": "stderr",
     "output_type": "stream",
     "text": [
      "/home/quak/development/lol_stats/src/utils/data_processing.py:6: DtypeWarning: Columns (2) have mixed types. Specify dtype option on import or set low_memory=False.\n",
      "  df = pd.read_csv(path + file_name)\n"
     ]
    }
   ],
   "source": [
    "# tournaments to evaluate\n",
    "major_regions = ['LPL', 'LCK', 'LEC', 'LCS', 'MSI', 'WCS', 'NA LCS', 'EU LCS', 'KeSPA']\n",
    "# droping columns that i find no use for at least for now\n",
    "drop_irrelevant = [\n",
    "    'gameid', 'datacompleteness', 'url', 'split', 'playoffs', \n",
    "    'date', 'game', 'patch', 'participantid', 'position', \n",
    "    'playerid', 'teamname', 'teamid', 'champion', 'ban1', \n",
    "    'ban2', 'ban3', 'ban4', 'ban5', ]\n",
    "\n",
    "# problematic columns, i think some of them can be added from column 'pos' == 'team' \n",
    "# but still there is problem with relevant LPL statistics \n",
    "drop_large_nulls = [\n",
    "    'firstdragon', 'dragons', 'opp_dragons', 'elementaldrakes', \n",
    "    'opp_elementaldrakes', 'infernals', 'mountains', 'clouds', \n",
    "    'oceans', 'chemtechs', 'hextechs', 'dragons (type unknown)', \n",
    "    'elders', 'opp_elders', 'firstherald', 'heralds', \n",
    "    'opp_heralds', 'firstbaron', 'inhibitors', 'opp_inhibitors',\n",
    "    'firsttower', 'towers', 'opp_towers', 'firstmidtower', 'firsttothreetowers', 'turretplates', 'opp_turretplates', 'gspd']\n",
    "\n",
    "# interesting game start to evaluate\n",
    "game_stats = ['kills', 'deaths', 'assists', 'dpm', 'damageshare', 'wardsplaced', 'wardskilled', 'minionkills', 'monsterkillsownjungle', 'monsterkillsenemyjungle']\n",
    "\n",
    "df = data_processing.prepare_data_leesin(major_regions, drop_irrelevant, drop_large_nulls)\n",
    "# time binning\n",
    "\n",
    "\n",
    "# df = df.assign(game_length_bins=lambda x: pd.cut(x['gamelength'], bins, labels=labels))"
   ]
  },
  {
   "attachments": {},
   "cell_type": "markdown",
   "metadata": {},
   "source": [
    "# Modeling\n",
    "\n",
    "- My idea is to build a model that will allow to explain the probability of victory given some of the collected post game statistics."
   ]
  },
  {
   "cell_type": "code",
   "execution_count": 3,
   "metadata": {},
   "outputs": [
    {
     "data": {
      "text/plain": [
       "gamelength     0\n",
       "side           0\n",
       "kills          0\n",
       "deaths         0\n",
       "assists        0\n",
       "wardsplaced    8\n",
       "wardskilled    8\n",
       "minionkills    9\n",
       "dpm            8\n",
       "damageshare    8\n",
       "dtype: int64"
      ]
     },
     "execution_count": 3,
     "metadata": {},
     "output_type": "execute_result"
    }
   ],
   "source": [
    "x_features = ['gamelength', 'side', 'kills', 'deaths', 'assists', 'wardsplaced', 'wardskilled', 'minionkills', 'dpm', 'damageshare', #'monsterkillsownjungle', 'monsterkillsenemyjungle', 'teamkills', 'teamdeaths', \n",
    "              ]\n",
    "target = ['result']\n",
    "\n",
    "df[x_features].isna().sum()"
   ]
  },
  {
   "cell_type": "code",
   "execution_count": 4,
   "metadata": {},
   "outputs": [],
   "source": [
    "bin_features = ['gamelength']\n",
    "ohe_features = ['side']\n",
    "std_features = ['dpm', 'damageshare']\n",
    "norm_features = [\n",
    "    'kills', 'deaths', 'assists',  'wardsplaced', \n",
    "    'wardskilled', 'minionkills', ]# 'monsterkillsownjungle', 'monsterkillsenemyjungle', 'teamkills', 'teamdeaths',]\n",
    "\n",
    "preprocessor = modeling_utils.create_preprocessor(bin_features, ohe_features, std_features, norm_features)"
   ]
  },
  {
   "cell_type": "code",
   "execution_count": 5,
   "metadata": {},
   "outputs": [],
   "source": [
    "from sklearn.model_selection import train_test_split\n",
    "X, y = df.drop(columns=target), df[target].to_numpy().ravel()\n",
    "\n",
    "X_train, X_test, y_train, y_test = train_test_split(X, y, test_size=0.15, random_state=42, stratify=y)"
   ]
  },
  {
   "cell_type": "code",
   "execution_count": 6,
   "metadata": {},
   "outputs": [
    {
     "name": "stdout",
     "output_type": "stream",
     "text": [
      "Best auc score: 0.9593059761235597\n"
     ]
    }
   ],
   "source": [
    "from sklearn.linear_model import LogisticRegression\n",
    "from sklearn.model_selection import GridSearchCV\n",
    "from sklearn.pipeline import Pipeline\n",
    "\n",
    "model_pipe = Pipeline([\n",
    "    ('data_prep', preprocessor), \n",
    "    ('model', LogisticRegression(max_iter=1000))\n",
    "])\n",
    "param_grid = {\n",
    "    'model__C': np.linspace(0.01, 3, 10)\n",
    "}\n",
    "\n",
    "search = (\n",
    "    GridSearchCV(model_pipe, param_grid, scoring='roc_auc', n_jobs=6)\n",
    "    .fit(X_train, y_train)\n",
    ")\n",
    "\n",
    "print(f'Best auc score: {search.best_score_}')"
   ]
  },
  {
   "attachments": {},
   "cell_type": "markdown",
   "metadata": {},
   "source": [
    "## Evaluation"
   ]
  },
  {
   "cell_type": "code",
   "execution_count": 7,
   "metadata": {},
   "outputs": [
    {
     "name": "stdout",
     "output_type": "stream",
     "text": [
      "              precision    recall  f1-score   support\n",
      "\n",
      "        Loss       0.91      0.87      0.89       231\n",
      "         Win       0.88      0.92      0.90       229\n",
      "\n",
      "    accuracy                           0.89       460\n",
      "   macro avg       0.89      0.89      0.89       460\n",
      "weighted avg       0.89      0.89      0.89       460\n",
      "\n"
     ]
    },
    {
     "data": {
      "image/png": "[encoded data removed]",
      "text/plain": [
       "<Figure size 640x480 with 2 Axes>"
      ]
     },
     "metadata": {},
     "output_type": "display_data"
    }
   ],
   "source": [
    "from sklearn.metrics import confusion_matrix, ConfusionMatrixDisplay, classification_report\n",
    "\n",
    "model = search.best_estimator_\n",
    "y_pred = model.predict(X_test)\n",
    "\n",
    "pred_lab = ['Loss', 'Win']\n",
    "print(classification_report(y_test, y_pred, target_names=pred_lab))\n",
    "\n",
    "\n",
    "cm = confusion_matrix(y_test, y_pred, labels=model.classes_)\n",
    "disp = ConfusionMatrixDisplay(confusion_matrix=cm, display_labels=pred_lab)\n",
    "disp.plot(), plt.grid(False)\n",
    "plt.show()"
   ]
  },
  {
   "cell_type": "code",
   "execution_count": 23,
   "metadata": {},
   "outputs": [
    {
     "name": "stdout",
     "output_type": "stream",
     "text": [
      "Best threshold: 0.483, fpr: 0.134, tpr: 0.926\n"
     ]
    },
    {
     "data": {
      "image/png": "[encoded data removed]",
      "text/plain": [
       "<Figure size 600x300 with 1 Axes>"
      ]
     },
     "metadata": {},
     "output_type": "display_data"
    }
   ],
   "source": [
    "from sklearn.metrics import roc_curve\n",
    "\n",
    "fpr, tpr, thresholds = roc_curve(y_test, model.predict_proba(X_test)[:, 1], pos_label=1)\n",
    "gmeans = np.sqrt(tpr * (1 - fpr))\n",
    "idx = np.argmax(gmeans)\n",
    "print(f'Best threshold: {round(thresholds[idx], 3)}, fpr: {round(fpr[idx], 3)}, tpr: {round(tpr[idx], 3)}')\n",
    "\n",
    "fig, ax = plt.subplots(1, 1, figsize=(6, 3))\n",
    "ax.plot(fpr, tpr), ax.axvline(fpr[idx], color='k', alpha=.5), ax.axhline(tpr[idx], color='k', alpha=.5)\n",
    "ax.set_title('ROC')\n",
    "fig.tight_layout()"
   ]
  },
  {
   "attachments": {},
   "cell_type": "markdown",
   "metadata": {},
   "source": [
    "### Values of coefficients"
   ]
  },
  {
   "cell_type": "code",
   "execution_count": null,
   "metadata": {},
   "outputs": [
    {
     "data": {
      "text/html": [
       "<div>\n",
       "<style scoped>\n",
       "    .dataframe tbody tr th:only-of-type {\n",
       "        vertical-align: middle;\n",
       "    }\n",
       "\n",
       "    .dataframe tbody tr th {\n",
       "        vertical-align: top;\n",
       "    }\n",
       "\n",
       "    .dataframe thead th {\n",
       "        text-align: right;\n",
       "    }\n",
       "</style>\n",
       "<table border=\"1\" class=\"dataframe\">\n",
       "  <thead>\n",
       "    <tr style=\"text-align: right;\">\n",
       "      <th></th>\n",
       "      <th>coef</th>\n",
       "    </tr>\n",
       "  </thead>\n",
       "  <tbody>\n",
       "    <tr>\n",
       "      <th>normalizing__deaths</th>\n",
       "      <td>-11.393000</td>\n",
       "    </tr>\n",
       "    <tr>\n",
       "      <th>normalizing__minionkills</th>\n",
       "      <td>-1.427000</td>\n",
       "    </tr>\n",
       "    <tr>\n",
       "      <th>intercept</th>\n",
       "      <td>-1.181701</td>\n",
       "    </tr>\n",
       "    <tr>\n",
       "      <th>stdizing__damageshare</th>\n",
       "      <td>-0.932000</td>\n",
       "    </tr>\n",
       "    <tr>\n",
       "      <th>bining__gamelength</th>\n",
       "      <td>-0.317000</td>\n",
       "    </tr>\n",
       "    <tr>\n",
       "      <th>onehotencoding__side_Red</th>\n",
       "      <td>-0.167000</td>\n",
       "    </tr>\n",
       "    <tr>\n",
       "      <th>normalizing__missingindicator_wardsplaced</th>\n",
       "      <td>0.001000</td>\n",
       "    </tr>\n",
       "    <tr>\n",
       "      <th>normalizing__missingindicator_wardskilled</th>\n",
       "      <td>0.001000</td>\n",
       "    </tr>\n",
       "    <tr>\n",
       "      <th>stdizing__missingindicator_dpm</th>\n",
       "      <td>0.013000</td>\n",
       "    </tr>\n",
       "    <tr>\n",
       "      <th>stdizing__missingindicator_damageshare</th>\n",
       "      <td>0.013000</td>\n",
       "    </tr>\n",
       "    <tr>\n",
       "      <th>normalizing__missingindicator_minionkills</th>\n",
       "      <td>0.089000</td>\n",
       "    </tr>\n",
       "    <tr>\n",
       "      <th>onehotencoding__side_Blue</th>\n",
       "      <td>0.167000</td>\n",
       "    </tr>\n",
       "    <tr>\n",
       "      <th>normalizing__wardsplaced</th>\n",
       "      <td>0.320000</td>\n",
       "    </tr>\n",
       "    <tr>\n",
       "      <th>stdizing__dpm</th>\n",
       "      <td>0.594000</td>\n",
       "    </tr>\n",
       "    <tr>\n",
       "      <th>normalizing__wardskilled</th>\n",
       "      <td>1.620000</td>\n",
       "    </tr>\n",
       "    <tr>\n",
       "      <th>normalizing__kills</th>\n",
       "      <td>6.317000</td>\n",
       "    </tr>\n",
       "    <tr>\n",
       "      <th>normalizing__assists</th>\n",
       "      <td>10.420000</td>\n",
       "    </tr>\n",
       "  </tbody>\n",
       "</table>\n",
       "</div>"
      ],
      "text/plain": [
       "                                                coef\n",
       "normalizing__deaths                       -11.393000\n",
       "normalizing__minionkills                   -1.427000\n",
       "intercept                                  -1.181701\n",
       "stdizing__damageshare                      -0.932000\n",
       "bining__gamelength                         -0.317000\n",
       "onehotencoding__side_Red                   -0.167000\n",
       "normalizing__missingindicator_wardsplaced   0.001000\n",
       "normalizing__missingindicator_wardskilled   0.001000\n",
       "stdizing__missingindicator_dpm              0.013000\n",
       "stdizing__missingindicator_damageshare      0.013000\n",
       "normalizing__missingindicator_minionkills   0.089000\n",
       "onehotencoding__side_Blue                   0.167000\n",
       "normalizing__wardsplaced                    0.320000\n",
       "stdizing__dpm                               0.594000\n",
       "normalizing__wardskilled                    1.620000\n",
       "normalizing__kills                          6.317000\n",
       "normalizing__assists                       10.420000"
      ]
     },
     "execution_count": 10,
     "metadata": {},
     "output_type": "execute_result"
    }
   ],
   "source": [
    "x = {x: round(y, 3) for x, y in zip(model[0].get_feature_names_out(), model[-1].coef_[0])}\n",
    "x['intercept'] = model[-1].intercept_\n",
    "coefs = pd.DataFrame(x).T\n",
    "coefs.columns = ['coef']\n",
    "coefs.sort_values('coef')"
   ]
  },
  {
   "attachments": {},
   "cell_type": "markdown",
   "metadata": {},
   "source": [
    "# Progress\n",
    "\n",
    "- Currently im trying to obtain some real data from currently on going matches. Concept is to for example get data in 5 minute intervals, and predict the probabiltiy of win based on these informations. \n",
    "- Not sure what to expect from this type of model since we only observe post game statistics, and the model is very **confident** about the outcome, so I'm worried of seeing very high spikes up and down as the game goes on, but sounds like interesting experiment.\n",
    "- This is also the model that only evaluates the performance of a single player while it is a team game.\n",
    "- **Currently blocked by the fact that there is not available API** so I'm limited to scraping data from vods on lolesports.com"
   ]
  },
  {
   "cell_type": "code",
   "execution_count": null,
   "metadata": {},
   "outputs": [],
   "source": []
  }
 ],
 "metadata": {
  "kernelspec": {
   "display_name": "polars",
   "language": "python",
   "name": "python3"
  },
  "language_info": {
   "codemirror_mode": {
    "name": "ipython",
    "version": 3
   },
   "file_extension": ".py",
   "mimetype": "text/x-python",
   "name": "python",
   "nbconvert_exporter": "python",
   "pygments_lexer": "ipython3",
   "version": "3.10.10"
  },
  "orig_nbformat": 4
 },
 "nbformat": 4,
 "nbformat_minor": 2
}
