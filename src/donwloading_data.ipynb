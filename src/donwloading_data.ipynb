{
 "cells": [
  {
   "cell_type": "code",
   "execution_count": 1,
   "metadata": {},
   "outputs": [
    {
     "data": {
      "text/plain": [
       "['../data/2014_LoL_esports_match_data_from_OraclesElixir.csv',\n",
       " '../data/2015_LoL_esports_match_data_from_OraclesElixir.csv',\n",
       " '../data/2016_LoL_esports_match_data_from_OraclesElixir.csv',\n",
       " '../data/2017_LoL_esports_match_data_from_OraclesElixir.csv',\n",
       " '../data/2018_LoL_esports_match_data_from_OraclesElixir.csv',\n",
       " '../data/2019_LoL_esports_match_data_from_OraclesElixir.csv',\n",
       " '../data/2020_LoL_esports_match_data_from_OraclesElixir.csv',\n",
       " '../data/2021_LoL_esports_match_data_from_OraclesElixir.csv',\n",
       " '../data/2022_LoL_esports_match_data_from_OraclesElixir.csv',\n",
       " '../data/2023_LoL_esports_match_data_from_OraclesElixir.csv']"
      ]
     },
     "execution_count": 1,
     "metadata": {},
     "output_type": "execute_result"
    }
   ],
   "source": [
    "import gdown\n",
    "\n",
    "# https://drive.google.com/drive/u/1/folders/1gLSw0RLjBbtaNy0dgnGQDAZOHIgCe-HH\n",
    "\n",
    "id = \"1gLSw0RLjBbtaNy0dgnGQDAZOHIgCe-HH\"\n",
    "gdown.download_folder(id=id, output='../data', quiet=True, use_cookies=True)"
   ]
  },
  {
   "cell_type": "code",
   "execution_count": null,
   "metadata": {},
   "outputs": [],
   "source": []
  }
 ],
 "metadata": {
  "kernelspec": {
   "display_name": "polars",
   "language": "python",
   "name": "python3"
  },
  "language_info": {
   "codemirror_mode": {
    "name": "ipython",
    "version": 3
   },
   "file_extension": ".py",
   "mimetype": "text/x-python",
   "name": "python",
   "nbconvert_exporter": "python",
   "pygments_lexer": "ipython3",
   "version": "3.10.10"
  },
  "orig_nbformat": 4
 },
 "nbformat": 4,
 "nbformat_minor": 2
}
